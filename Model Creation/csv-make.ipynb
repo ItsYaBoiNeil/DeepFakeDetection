{
 "cells": [
  {
   "cell_type": "code",
   "execution_count": 5,
   "id": "7523e01b",
   "metadata": {},
   "outputs": [],
   "source": [
    "import os, csv\n",
    "\n",
    "f=open(\"metadata.csv\",'r+')\n",
    "w=csv.writer(f,lineterminator = '\\n')\n",
    "for path, dirs, files in os.walk(\"./CelebsDF/Celeb-real\"):\n",
    "    for filename in files:\n",
    "        w.writerow([filename,\"REAL\"])\n",
    "f.close()"
   ]
  },
  {
   "cell_type": "code",
   "execution_count": 7,
   "id": "23281dff",
   "metadata": {},
   "outputs": [],
   "source": [
    "import os, csv\n",
    "\n",
    "f=open(\"metadata.csv\",'r+')\n",
    "w=csv.writer(f,lineterminator = '\\n')\n",
    "for path, dirs, files in os.walk(\"./CelebsDF/Celeb-synthesis\"):\n",
    "    for filename in files:\n",
    "        w.writerow([filename,\"FAKE\"])\n",
    "f.close()"
   ]
  },
  {
   "cell_type": "code",
   "execution_count": 8,
   "id": "ea0d5ba0",
   "metadata": {},
   "outputs": [],
   "source": [
    "import os, csv\n",
    "\n",
    "f=open(\"metadata.csv\",'r+')\n",
    "w=csv.writer(f,lineterminator = '\\n')\n",
    "for path, dirs, files in os.walk(\"./CelebsDF/Youtube-real\"):\n",
    "    for filename in files:\n",
    "        w.writerow([filename,\"REAL\"])\n",
    "f.close()"
   ]
  },
  {
   "cell_type": "code",
   "execution_count": 3,
   "id": "0fa54e8b",
   "metadata": {},
   "outputs": [],
   "source": [
    "import os, csv\n",
    "\n",
    "f=open(\"metadata-small.csv\",'r+')\n",
    "w=csv.writer(f,lineterminator = '\\n')\n",
    "for path, dirs, files in os.walk(\"./CelebsDF/Celeb-real-small\"):\n",
    "    for filename in files:\n",
    "        w.writerow([filename,\"REAL\"])\n",
    "f.close()"
   ]
  },
  {
   "cell_type": "code",
   "execution_count": 9,
   "id": "d4741456",
   "metadata": {},
   "outputs": [],
   "source": [
    "import os, csv\n",
    "\n",
    "f=open(\"metadata-new2.csv\",'r+')\n",
    "w=csv.writer(f,lineterminator = '\\n')\n",
    "for path, dirs, files in os.walk(\"./CelebsDF/Celeb-real-cropped\"):\n",
    "    for filename in files:\n",
    "        w.writerow([filename,\"REAL\"])\n",
    "f.close()"
   ]
  },
  {
   "cell_type": "code",
   "execution_count": 8,
   "id": "05104daf",
   "metadata": {},
   "outputs": [],
   "source": [
    "import os, csv\n",
    "\n",
    "f=open(\"metadata-new.csv\",'r+')\n",
    "w=csv.writer(f,lineterminator = '\\n')\n",
    "for path, dirs, files in os.walk(\"./CelebsDF/Celeb-fake-cropped\"):\n",
    "    for filename in files:\n",
    "        w.writerow([filename,\"FAKE\"])\n",
    "f.close()"
   ]
  },
  {
   "cell_type": "code",
   "execution_count": null,
   "id": "f20afcbb",
   "metadata": {},
   "outputs": [],
   "source": []
  }
 ],
 "metadata": {
  "kernelspec": {
   "display_name": "Python 3 (ipykernel)",
   "language": "python",
   "name": "python3"
  },
  "language_info": {
   "codemirror_mode": {
    "name": "ipython",
    "version": 3
   },
   "file_extension": ".py",
   "mimetype": "text/x-python",
   "name": "python",
   "nbconvert_exporter": "python",
   "pygments_lexer": "ipython3",
   "version": "3.9.16"
  }
 },
 "nbformat": 4,
 "nbformat_minor": 5
}
